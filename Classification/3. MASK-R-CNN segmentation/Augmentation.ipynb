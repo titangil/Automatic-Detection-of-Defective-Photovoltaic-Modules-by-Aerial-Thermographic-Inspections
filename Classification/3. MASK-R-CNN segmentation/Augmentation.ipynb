{
 "cells": [
  {
   "cell_type": "code",
   "execution_count": 1,
   "id": "32b87564-5f29-4db6-86c4-0a5531cee45a",
   "metadata": {},
   "outputs": [
    {
     "name": "stderr",
     "output_type": "stream",
     "text": [
      "Using TensorFlow backend.\n"
     ]
    }
   ],
   "source": [
    "from matplotlib import pyplot as plt\n",
    "from clodsa.augmentors.augmentorFactory import createAugmentor\n",
    "from clodsa.transformers.transformerFactory import transformerGenerator\n",
    "from clodsa.techniques.techniqueFactory import createTechnique\n",
    "import cv2\n",
    "%matplotlib inline"
   ]
  },
  {
   "cell_type": "code",
   "execution_count": 24,
   "id": "f6d8d13f-ee0f-4013-bb17-cb62fdc31f1e",
   "metadata": {},
   "outputs": [],
   "source": [
    "PROBLEM = \"instance_segmentation\""
   ]
  },
  {
   "cell_type": "code",
   "execution_count": 25,
   "id": "54494615-05e4-4c24-abb4-571b55ddcd5a",
   "metadata": {},
   "outputs": [],
   "source": [
    "ANNOTATION_MODE = \"coco\""
   ]
  },
  {
   "cell_type": "code",
   "execution_count": 26,
   "id": "ce8b0456-c4cb-4bdc-9aa5-9f412656ff70",
   "metadata": {},
   "outputs": [],
   "source": [
    "INPUT_PATH = \"shapes\""
   ]
  },
  {
   "cell_type": "code",
   "execution_count": 27,
   "id": "da5dd3bd-10ca-4b5a-9f9a-3cc016f01c6b",
   "metadata": {},
   "outputs": [],
   "source": [
    "GENERATION_MODE = \"linear\""
   ]
  },
  {
   "cell_type": "code",
   "execution_count": 28,
   "id": "308a44c6-a6b7-47ab-8a2d-e6b22e3ad055",
   "metadata": {},
   "outputs": [],
   "source": [
    "OUTPUT_MODE = \"coco\"\n",
    "OUTPUT_PATH= \"output/\""
   ]
  },
  {
   "cell_type": "code",
   "execution_count": 29,
   "id": "0f082cf0-90e4-49e0-be02-5e4f191f3a1c",
   "metadata": {},
   "outputs": [],
   "source": [
    "augmentor = createAugmentor(PROBLEM,ANNOTATION_MODE,OUTPUT_MODE,GENERATION_MODE,INPUT_PATH,{\"outputPath\":OUTPUT_PATH})"
   ]
  },
  {
   "cell_type": "code",
   "execution_count": 30,
   "id": "7977e6d9-84b2-46b2-9545-4f27bde4838b",
   "metadata": {},
   "outputs": [],
   "source": [
    "transformer = transformerGenerator(PROBLEM)"
   ]
  },
  {
   "cell_type": "code",
   "execution_count": 31,
   "id": "a93a9b04-3e40-4192-8e52-61c134e59318",
   "metadata": {},
   "outputs": [],
   "source": [
    "for angle in [90,180]:\n",
    "    rotate = createTechnique(\"rotate\", {\"angle\" : angle})\n",
    "    augmentor.addTransformer(transformer(rotate))"
   ]
  },
  {
   "cell_type": "code",
   "execution_count": 32,
   "id": "f1c689ff-2b1a-4396-93f0-1f4375e8c134",
   "metadata": {},
   "outputs": [],
   "source": [
    "flip = createTechnique(\"flip\",{\"flip\":1})\n",
    "augmentor.addTransformer(transformer(flip))"
   ]
  },
  {
   "cell_type": "code",
   "execution_count": 33,
   "id": "6cc5ec75-b647-4c77-8ebe-712f2db0aa39",
   "metadata": {},
   "outputs": [],
   "source": [
    "gaussian = createTechnique(\"gaussian_blur\",{\"kernel\" : 5})\n",
    "augmentor.addTransformer(transformer(gaussian))"
   ]
  },
  {
   "cell_type": "code",
   "execution_count": 34,
   "id": "d7c584f2-54af-4177-8617-8a3c32686354",
   "metadata": {},
   "outputs": [],
   "source": [
    "saturation = createTechnique(\"raise_saturation\",{\"power\" : 0.26})\n",
    "augmentor.addTransformer(transformer(saturation))"
   ]
  },
  {
   "cell_type": "code",
   "execution_count": 35,
   "id": "f4a7541f-552e-443a-a160-6dec56b7ce4e",
   "metadata": {},
   "outputs": [],
   "source": [
    "elastic = createTechnique(\"elastic\",{\"alpha\" : 2 , \"sigma\" : 0.08})\n",
    "augmentor.addTransformer(transformer(elastic))"
   ]
  },
  {
   "cell_type": "code",
   "execution_count": 36,
   "id": "61af1b07-7a57-4ebd-be94-5d0258a505c0",
   "metadata": {},
   "outputs": [],
   "source": [
    "for percentage in [0.1,0.6]:\n",
    "    crop = createTechnique(\"crop\",{\"percentage\" : percentage , \"startFrom\" : \"CENTER\"})\n",
    "    augmentor.addTransformer(transformer(crop))"
   ]
  },
  {
   "cell_type": "code",
   "execution_count": 37,
   "id": "4cc8142c-d63c-4ef1-8cc3-3e3103d090b2",
   "metadata": {},
   "outputs": [],
   "source": [
    "gray = createTechnique(\"invert\",{None})\n",
    "augmentor.addTransformer(transformer(gray))"
   ]
  },
  {
   "cell_type": "code",
   "execution_count": 38,
   "id": "b5c3226a-f975-47f7-bbb8-f8ba1680d7b7",
   "metadata": {},
   "outputs": [],
   "source": [
    "shear = createTechnique(\"shearing\", {\"a\":0.5})\n",
    "augmentor.addTransformer(transformer(shear))"
   ]
  },
  {
   "cell_type": "code",
   "execution_count": 39,
   "id": "6a630cad-444b-413e-a6a3-21205bdc63c7",
   "metadata": {},
   "outputs": [],
   "source": [
    "gamma = createTechnique(\"gamma\",{\"gamma\":1.5})\n",
    "augmentor.addTransformer(transformer(gamma))"
   ]
  },
  {
   "cell_type": "code",
   "execution_count": 40,
   "id": "b74be70f-325d-437f-a751-68e84ca3b245",
   "metadata": {},
   "outputs": [],
   "source": [
    "dropout = createTechnique(\"dropout\",{\"percentage\":0.05})\n",
    "augmentor.addTransformer(transformer(dropout))"
   ]
  },
  {
   "cell_type": "code",
   "execution_count": 41,
   "id": "e920b57f-e5f6-487c-b295-1c2fc4b38e4f",
   "metadata": {},
   "outputs": [],
   "source": [
    "HSV = createTechnique(\"change_to_hsv\",{})\n",
    "augmentor.addTransformer(transformer(HSV))"
   ]
  },
  {
   "cell_type": "code",
   "execution_count": 42,
   "id": "36357065-3cf7-4f85-8cd2-e0c7e96bc6d5",
   "metadata": {},
   "outputs": [],
   "source": [
    "LAB = createTechnique(\"change_to_lab\",{})\n",
    "augmentor.addTransformer(transformer(LAB))"
   ]
  },
  {
   "cell_type": "code",
   "execution_count": 43,
   "id": "8f80a922-e88c-479e-9ecb-94af4b6bfb0d",
   "metadata": {},
   "outputs": [],
   "source": [
    "saltandpepper = createTechnique(\"salt_and_pepper\", {\"low\" : 0,\"up\":25})\n",
    "augmentor.addTransformer(transformer(saltandpepper))"
   ]
  },
  {
   "cell_type": "code",
   "execution_count": 44,
   "id": "4aa2bdb3-9891-41c4-92cc-a7930cb655a0",
   "metadata": {},
   "outputs": [],
   "source": [
    "augmentor.applyAugmentation()"
   ]
  },
  {
   "cell_type": "code",
   "execution_count": null,
   "id": "f91a9a08-90d0-4cb7-b358-5ff463a0d306",
   "metadata": {},
   "outputs": [],
   "source": []
  },
  {
   "cell_type": "code",
   "execution_count": null,
   "id": "60addf4e-5b5d-4c8d-bd1b-0f4b6ddef3f1",
   "metadata": {},
   "outputs": [],
   "source": []
  }
 ],
 "metadata": {
  "kernelspec": {
   "display_name": "Python 3",
   "language": "python",
   "name": "python3"
  },
  "language_info": {
   "codemirror_mode": {
    "name": "ipython",
    "version": 3
   },
   "file_extension": ".py",
   "mimetype": "text/x-python",
   "name": "python",
   "nbconvert_exporter": "python",
   "pygments_lexer": "ipython3",
   "version": "3.6.13"
  }
 },
 "nbformat": 4,
 "nbformat_minor": 5
}
